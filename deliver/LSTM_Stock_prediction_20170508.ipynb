{
 "cells": [
  {
   "cell_type": "markdown",
   "metadata": {},
   "source": [
    "# Stock value prediction from Open, High, Low"
   ]
  },
  {
   "cell_type": "markdown",
   "metadata": {
    "collapsed": true
   },
   "source": [
    "# Import module"
   ]
  },
  {
   "cell_type": "code",
   "execution_count": 1,
   "metadata": {},
   "outputs": [
    {
     "name": "stderr",
     "output_type": "stream",
     "text": [
      "Using TensorFlow backend.\n"
     ]
    }
   ],
   "source": [
    "import numpy as np\n",
    "import matplotlib.pyplot as plt\n",
    "import matplotlib.pyplot as plt2\n",
    "import pandas as pd\n",
    "from pandas import datetime\n",
    "import math, time\n",
    "import itertools\n",
    "from sklearn import preprocessing\n",
    "import datetime\n",
    "from sklearn.metrics import mean_squared_error\n",
    "from math import sqrt\n",
    "from keras.models import Sequential\n",
    "from keras.layers.core import Dense, Dropout, Activation\n",
    "from keras.layers.recurrent import LSTM\n",
    "from keras.models import load_model\n",
    "import keras\n",
    "import pandas_datareader.data as web\n",
    "import h5py"
   ]
  },
  {
   "cell_type": "markdown",
   "metadata": {},
   "source": [
    "# Input parameters "
   ]
  },
  {
   "cell_type": "code",
   "execution_count": 2,
   "metadata": {
    "collapsed": true
   },
   "outputs": [],
   "source": [
    "stock_name = '^GSPC'\n",
    "seq_len = 22\n",
    "d = 0.2\n",
    "shape = [4, seq_len, 1] # feature, window, output\n",
    "neurons = [128, 128, 32, 1]\n",
    "epochs = 300"
   ]
  },
  {
   "cell_type": "markdown",
   "metadata": {
    "collapsed": true
   },
   "source": [
    "# 1. Download data and normalize it\n",
    "Data since 1950 to today"
   ]
  },
  {
   "cell_type": "code",
   "execution_count": 3,
   "metadata": {
    "collapsed": true
   },
   "outputs": [],
   "source": [
    "def get_stock_data(stock_name, normalize=True):\n",
    "    start = datetime.datetime(1950, 1, 1)\n",
    "    end = datetime.date.today()\n",
    "    df = web.DataReader(stock_name, \"yahoo\", start, end)\n",
    "    df.drop(['Volume', 'Close'], 1, inplace=True)\n",
    "    \n",
    "    if normalize:        \n",
    "        min_max_scaler = preprocessing.MinMaxScaler()\n",
    "        df['Open'] = min_max_scaler.fit_transform(df.Open.values.reshape(-1,1))\n",
    "        df['High'] = min_max_scaler.fit_transform(df.High.values.reshape(-1,1))\n",
    "        df['Low'] = min_max_scaler.fit_transform(df.Low.values.reshape(-1,1))\n",
    "        df['Adj Close'] = min_max_scaler.fit_transform(df['Adj Close'].values.reshape(-1,1))\n",
    "    return df"
   ]
  },
  {
   "cell_type": "code",
   "execution_count": 4,
   "metadata": {},
   "outputs": [
    {
     "name": "stdout",
     "output_type": "stream",
     "text": [
      "                Open      High       Low  Adj Close\n",
      "Date                                               \n",
      "1950-01-03  0.000004  0.000000  0.000004   0.000000\n",
      "1950-01-04  0.000078  0.000074  0.000078   0.000074\n",
      "1950-01-05  0.000110  0.000106  0.000110   0.000106\n",
      "1950-01-06  0.000129  0.000125  0.000129   0.000125\n",
      "1950-01-09  0.000172  0.000168  0.000169   0.000164\n"
     ]
    }
   ],
   "source": [
    "df = get_stock_data(stock_name, normalize=True)\n",
    "# summarize first 5 rows\n",
    "print(df.head(5))"
   ]
  },
  {
   "cell_type": "markdown",
   "metadata": {},
   "source": [
    "# 2. Plot out the Normalized Adjusted close price"
   ]
  },
  {
   "cell_type": "code",
   "execution_count": 5,
   "metadata": {
    "collapsed": true
   },
   "outputs": [],
   "source": [
    "def plot_stock(stock_name):\n",
    "    df = get_stock_data(stock_name, normalize=True)\n",
    "    print(df.head())\n",
    "    plt.plot(df['Adj Close'], color='red', label='Adj Close')\n",
    "    plt.legend(loc='best')\n",
    "    plt.show()"
   ]
  },
  {
   "cell_type": "code",
   "execution_count": 6,
   "metadata": {},
   "outputs": [
    {
     "name": "stdout",
     "output_type": "stream",
     "text": [
      "                Open      High       Low  Adj Close\n",
      "Date                                               \n",
      "1950-01-03  0.000004  0.000000  0.000004   0.000000\n",
      "1950-01-04  0.000078  0.000074  0.000078   0.000074\n",
      "1950-01-05  0.000110  0.000106  0.000110   0.000106\n",
      "1950-01-06  0.000129  0.000125  0.000129   0.000125\n",
      "1950-01-09  0.000172  0.000168  0.000169   0.000164\n"
     ]
    },
    {
     "data": {
      "image/png": "[encoded data removed]",
      "text/plain": [
       "<matplotlib.figure.Figure at 0x11e612748>"
      ]
     },
     "metadata": {},
     "output_type": "display_data"
    }
   ],
   "source": [
    "plot_stock(stock_name)"
   ]
  },
  {
   "cell_type": "markdown",
   "metadata": {},
   "source": [
    "# 3. Set last day Adjusted Close as y"
   ]
  },
  {
   "cell_type": "code",
   "execution_count": 7,
   "metadata": {
    "collapsed": true
   },
   "outputs": [],
   "source": [
    "def load_data(stock, seq_len):\n",
    "    amount_of_features = len(stock.columns)\n",
    "    data = stock.as_matrix() \n",
    "    sequence_length = seq_len + 1 # index starting from 0\n",
    "    result = []\n",
    "    \n",
    "    for index in range(len(data) - sequence_length): # maxmimum date = lastest date - sequence length\n",
    "        result.append(data[index: index + sequence_length]) # index : index + 22days\n",
    "    \n",
    "    result = np.array(result)\n",
    "    row = round(0.9 * result.shape[0]) # 90% split\n",
    "    \n",
    "    train = result[:int(row), :] # 90% date\n",
    "    X_train = train[:, :-1] # all data until day m\n",
    "    y_train = train[:, -1][:,-1] # day m + 1 adjusted close price\n",
    "    \n",
    "    X_test = result[int(row):, :-1]\n",
    "    y_test = result[int(row):, -1][:,-1] \n",
    "\n",
    "    X_train = np.reshape(X_train, (X_train.shape[0], X_train.shape[1], amount_of_features))\n",
    "    X_test = np.reshape(X_test, (X_test.shape[0], X_test.shape[1], amount_of_features))  \n",
    "\n",
    "    return [X_train, y_train, X_test, y_test]"
   ]
  },
  {
   "cell_type": "code",
   "execution_count": 8,
   "metadata": {
    "collapsed": true
   },
   "outputs": [],
   "source": [
    "X_train, y_train, X_test, y_test = load_data(df, seq_len)"
   ]
  },
  {
   "cell_type": "code",
   "execution_count": 9,
   "metadata": {},
   "outputs": [
    {
     "data": {
      "text/plain": [
       "(15335, 22, 4)"
      ]
     },
     "execution_count": 9,
     "metadata": {},
     "output_type": "execute_result"
    }
   ],
   "source": [
    "X_train.shape[0], X_train.shape[1], X_train.shape[2]"
   ]
  },
  {
   "cell_type": "code",
   "execution_count": 10,
   "metadata": {},
   "outputs": [
    {
     "data": {
      "text/plain": [
       "15335"
      ]
     },
     "execution_count": 10,
     "metadata": {},
     "output_type": "execute_result"
    }
   ],
   "source": [
    "y_train.shape[0]"
   ]
  },
  {
   "cell_type": "markdown",
   "metadata": {
    "collapsed": true
   },
   "source": [
    "# 4. Buidling neural network"
   ]
  },
  {
   "cell_type": "code",
   "execution_count": 11,
   "metadata": {
    "collapsed": true
   },
   "outputs": [],
   "source": [
    "def build_model2(layers, neurons, d):\n",
    "    model = Sequential()\n",
    "    \n",
    "    model.add(LSTM(neurons[0], input_shape=(layers[1], layers[0]), return_sequences=True))\n",
    "    model.add(Dropout(d))\n",
    "        \n",
    "    model.add(LSTM(neurons[1], input_shape=(layers[1], layers[0]), return_sequences=False))\n",
    "    model.add(Dropout(d))\n",
    "        \n",
    "    model.add(Dense(neurons[2],kernel_initializer=\"uniform\",activation='relu'))        \n",
    "    model.add(Dense(neurons[3],kernel_initializer=\"uniform\",activation='linear'))\n",
    "    # model = load_model('my_LSTM_stock_model1000.h5')\n",
    "    # adam = keras.optimizers.Adam(decay=0.2)\n",
    "    model.compile(loss='mse',optimizer='adam', metrics=['accuracy'])\n",
    "    model.summary()\n",
    "    return model"
   ]
  },
  {
   "cell_type": "markdown",
   "metadata": {},
   "source": [
    "# 6. Model Execution"
   ]
  },
  {
   "cell_type": "code",
   "execution_count": 21,
   "metadata": {},
   "outputs": [
    {
     "name": "stdout",
     "output_type": "stream",
     "text": [
      "_________________________________________________________________\n",
      "Layer (type)                 Output Shape              Param #   \n",
      "=================================================================\n",
      "lstm_3 (LSTM)                (None, 22, 128)           68096     \n",
      "_________________________________________________________________\n",
      "dropout_3 (Dropout)          (None, 22, 128)           0         \n",
      "_________________________________________________________________\n",
      "lstm_4 (LSTM)                (None, 128)               131584    \n",
      "_________________________________________________________________\n",
      "dropout_4 (Dropout)          (None, 128)               0         \n",
      "_________________________________________________________________\n",
      "dense_3 (Dense)              (None, 32)                4128      \n",
      "_________________________________________________________________\n",
      "dense_4 (Dense)              (None, 1)                 33        \n",
      "=================================================================\n",
      "Total params: 203,841\n",
      "Trainable params: 203,841\n",
      "Non-trainable params: 0\n",
      "_________________________________________________________________\n"
     ]
    }
   ],
   "source": [
    "model = build_model2(shape, neurons, d)\n",
    "# layers = [4, 22, 1]"
   ]
  },
  {
   "cell_type": "code",
   "execution_count": 13,
   "metadata": {},
   "outputs": [
    {
     "name": "stdout",
     "output_type": "stream",
     "text": [
      "Train on 13801 samples, validate on 1534 samples\n",
      "Epoch 1/300\n",
      "13801/13801 [==============================] - 19s - loss: 0.0091 - acc: 0.0000e+00 - val_loss: 0.0053 - val_acc: 0.0000e+00\n",
      "Epoch 2/300\n",
      "13801/13801 [==============================] - 20s - loss: 4.1204e-04 - acc: 0.0000e+00 - val_loss: 0.0019 - val_acc: 0.0000e+00\n",
      "Epoch 3/300\n",
      "13801/13801 [==============================] - 19s - loss: 1.8921e-04 - acc: 0.0000e+00 - val_loss: 4.5630e-04 - val_acc: 0.0000e+00\n",
      "Epoch 4/300\n",
      "13801/13801 [==============================] - 20s - loss: 1.4859e-04 - acc: 0.0000e+00 - val_loss: 3.1502e-04 - val_acc: 0.0000e+00\n",
      "Epoch 5/300\n",
      "13801/13801 [==============================] - 20s - loss: 1.3470e-04 - acc: 0.0000e+00 - val_loss: 2.7502e-04 - val_acc: 0.0000e+00\n",
      "Epoch 6/300\n",
      "13801/13801 [==============================] - 19s - loss: 1.2538e-04 - acc: 0.0000e+00 - val_loss: 2.4122e-04 - val_acc: 0.0000e+00\n",
      "Epoch 7/300\n",
      "13801/13801 [==============================] - 18s - loss: 1.1421e-04 - acc: 0.0000e+00 - val_loss: 4.7353e-04 - val_acc: 0.0000e+00\n",
      "Epoch 8/300\n",
      "13801/13801 [==============================] - 19s - loss: 1.1727e-04 - acc: 0.0000e+00 - val_loss: 2.4959e-04 - val_acc: 0.0000e+00\n",
      "Epoch 9/300\n",
      "13801/13801 [==============================] - 20s - loss: 1.1644e-04 - acc: 0.0000e+00 - val_loss: 3.2337e-04 - val_acc: 0.0000e+00\n",
      "Epoch 10/300\n",
      "13801/13801 [==============================] - 19s - loss: 1.0953e-04 - acc: 0.0000e+00 - val_loss: 2.6601e-04 - val_acc: 0.0000e+00\n",
      "Epoch 11/300\n",
      "13801/13801 [==============================] - 18s - loss: 9.8681e-05 - acc: 0.0000e+00 - val_loss: 2.0938e-04 - val_acc: 0.0000e+00\n",
      "Epoch 12/300\n",
      "13801/13801 [==============================] - 19s - loss: 1.0259e-04 - acc: 0.0000e+00 - val_loss: 2.1435e-04 - val_acc: 0.0000e+00\n",
      "Epoch 13/300\n",
      "13801/13801 [==============================] - 19s - loss: 1.0652e-04 - acc: 0.0000e+00 - val_loss: 2.3771e-04 - val_acc: 0.0000e+00\n",
      "Epoch 14/300\n",
      "13801/13801 [==============================] - 19s - loss: 1.0294e-04 - acc: 0.0000e+00 - val_loss: 2.1228e-04 - val_acc: 0.0000e+00\n",
      "Epoch 15/300\n",
      "13801/13801 [==============================] - 20s - loss: 9.7486e-05 - acc: 0.0000e+00 - val_loss: 2.0034e-04 - val_acc: 0.0000e+00\n",
      "Epoch 16/300\n",
      "13801/13801 [==============================] - 19s - loss: 9.5807e-05 - acc: 0.0000e+00 - val_loss: 1.9288e-04 - val_acc: 0.0000e+00\n",
      "Epoch 17/300\n",
      "13801/13801 [==============================] - 18s - loss: 1.0554e-04 - acc: 0.0000e+00 - val_loss: 1.8231e-04 - val_acc: 0.0000e+00\n",
      "Epoch 18/300\n",
      "13801/13801 [==============================] - 18s - loss: 9.1816e-05 - acc: 0.0000e+00 - val_loss: 1.8671e-04 - val_acc: 0.0000e+00\n",
      "Epoch 19/300\n",
      "13801/13801 [==============================] - 18s - loss: 9.8040e-05 - acc: 0.0000e+00 - val_loss: 3.0588e-04 - val_acc: 0.0000e+00\n",
      "Epoch 20/300\n",
      "13801/13801 [==============================] - 18s - loss: 1.0610e-04 - acc: 0.0000e+00 - val_loss: 2.5848e-04 - val_acc: 0.0000e+00\n",
      "Epoch 21/300\n",
      "13801/13801 [==============================] - 19s - loss: 1.0111e-04 - acc: 0.0000e+00 - val_loss: 1.9608e-04 - val_acc: 0.0000e+00\n",
      "Epoch 22/300\n",
      "13801/13801 [==============================] - 19s - loss: 8.8135e-05 - acc: 0.0000e+00 - val_loss: 1.7066e-04 - val_acc: 0.0000e+00\n",
      "Epoch 23/300\n",
      "13801/13801 [==============================] - 19s - loss: 8.9385e-05 - acc: 0.0000e+00 - val_loss: 2.0909e-04 - val_acc: 0.0000e+00\n",
      "Epoch 24/300\n",
      "13801/13801 [==============================] - 18s - loss: 9.4763e-05 - acc: 0.0000e+00 - val_loss: 3.6722e-04 - val_acc: 0.0000e+00\n",
      "Epoch 25/300\n",
      "13801/13801 [==============================] - 19s - loss: 9.4087e-05 - acc: 0.0000e+00 - val_loss: 2.6175e-04 - val_acc: 0.0000e+00\n",
      "Epoch 26/300\n",
      "13801/13801 [==============================] - 20s - loss: 8.6669e-05 - acc: 0.0000e+00 - val_loss: 1.6968e-04 - val_acc: 0.0000e+00\n",
      "Epoch 27/300\n",
      "13801/13801 [==============================] - 19s - loss: 9.0887e-05 - acc: 0.0000e+00 - val_loss: 2.0333e-04 - val_acc: 0.0000e+00\n",
      "Epoch 28/300\n",
      "13801/13801 [==============================] - 19s - loss: 8.1240e-05 - acc: 0.0000e+00 - val_loss: 1.7244e-04 - val_acc: 0.0000e+00\n",
      "Epoch 29/300\n",
      "13801/13801 [==============================] - 19s - loss: 7.9687e-05 - acc: 0.0000e+00 - val_loss: 1.5591e-04 - val_acc: 0.0000e+00\n",
      "Epoch 30/300\n",
      "13801/13801 [==============================] - 18s - loss: 8.5557e-05 - acc: 0.0000e+00 - val_loss: 4.5228e-04 - val_acc: 0.0000e+00\n",
      "Epoch 31/300\n",
      "13801/13801 [==============================] - 19s - loss: 8.6444e-05 - acc: 0.0000e+00 - val_loss: 1.7189e-04 - val_acc: 0.0000e+00\n",
      "Epoch 32/300\n",
      "13801/13801 [==============================] - 18s - loss: 9.1727e-05 - acc: 0.0000e+00 - val_loss: 2.5178e-04 - val_acc: 0.0000e+00\n",
      "Epoch 33/300\n",
      "13801/13801 [==============================] - 19s - loss: 8.5425e-05 - acc: 0.0000e+00 - val_loss: 2.3323e-04 - val_acc: 0.0000e+00\n",
      "Epoch 34/300\n",
      "13801/13801 [==============================] - 20s - loss: 8.4691e-05 - acc: 0.0000e+00 - val_loss: 2.3152e-04 - val_acc: 0.0000e+00\n",
      "Epoch 35/300\n",
      "13801/13801 [==============================] - 20s - loss: 8.3887e-05 - acc: 0.0000e+00 - val_loss: 1.4486e-04 - val_acc: 0.0000e+00\n",
      "Epoch 36/300\n",
      "13801/13801 [==============================] - 19s - loss: 7.9911e-05 - acc: 0.0000e+00 - val_loss: 2.3559e-04 - val_acc: 0.0000e+00\n",
      "Epoch 37/300\n",
      "13801/13801 [==============================] - 20s - loss: 9.8349e-05 - acc: 0.0000e+00 - val_loss: 1.5213e-04 - val_acc: 0.0000e+00\n",
      "Epoch 38/300\n",
      "13801/13801 [==============================] - 20s - loss: 8.4888e-05 - acc: 0.0000e+00 - val_loss: 3.5946e-04 - val_acc: 0.0000e+00\n",
      "Epoch 39/300\n",
      "13801/13801 [==============================] - 20s - loss: 9.2377e-05 - acc: 0.0000e+00 - val_loss: 3.1259e-04 - val_acc: 0.0000e+00\n",
      "Epoch 40/300\n",
      "13801/13801 [==============================] - 20s - loss: 7.8954e-05 - acc: 0.0000e+00 - val_loss: 1.6936e-04 - val_acc: 0.0000e+00\n",
      "Epoch 41/300\n",
      "13801/13801 [==============================] - 20s - loss: 7.7294e-05 - acc: 0.0000e+00 - val_loss: 1.3640e-04 - val_acc: 0.0000e+00\n",
      "Epoch 42/300\n",
      "13801/13801 [==============================] - 19s - loss: 1.1740e-04 - acc: 0.0000e+00 - val_loss: 1.6861e-04 - val_acc: 0.0000e+00\n",
      "Epoch 43/300\n",
      "13801/13801 [==============================] - 20s - loss: 1.0232e-04 - acc: 0.0000e+00 - val_loss: 1.4254e-04 - val_acc: 0.0000e+00\n",
      "Epoch 44/300\n",
      "13801/13801 [==============================] - 20s - loss: 7.6989e-05 - acc: 0.0000e+00 - val_loss: 1.3449e-04 - val_acc: 0.0000e+00\n",
      "Epoch 45/300\n",
      "13801/13801 [==============================] - 19s - loss: 7.7536e-05 - acc: 0.0000e+00 - val_loss: 1.5911e-04 - val_acc: 0.0000e+00\n",
      "Epoch 46/300\n",
      "13801/13801 [==============================] - 20s - loss: 8.2183e-05 - acc: 0.0000e+00 - val_loss: 1.5853e-04 - val_acc: 0.0000e+00\n",
      "Epoch 47/300\n",
      "13801/13801 [==============================] - 20s - loss: 7.6993e-05 - acc: 0.0000e+00 - val_loss: 1.7072e-04 - val_acc: 0.0000e+00\n",
      "Epoch 48/300\n",
      "13801/13801 [==============================] - 21s - loss: 8.0726e-05 - acc: 0.0000e+00 - val_loss: 1.5226e-04 - val_acc: 0.0000e+00\n",
      "Epoch 49/300\n",
      "13801/13801 [==============================] - 19s - loss: 7.4072e-05 - acc: 0.0000e+00 - val_loss: 1.4714e-04 - val_acc: 0.0000e+00\n",
      "Epoch 50/300\n",
      "13801/13801 [==============================] - 20s - loss: 7.2866e-05 - acc: 0.0000e+00 - val_loss: 1.3080e-04 - val_acc: 0.0000e+00\n",
      "Epoch 51/300\n",
      "13801/13801 [==============================] - 19s - loss: 1.1015e-04 - acc: 0.0000e+00 - val_loss: 1.3909e-04 - val_acc: 0.0000e+00\n",
      "Epoch 52/300\n",
      "13801/13801 [==============================] - 21s - loss: 7.6685e-05 - acc: 0.0000e+00 - val_loss: 1.7370e-04 - val_acc: 0.0000e+00\n",
      "Epoch 53/300\n",
      "13801/13801 [==============================] - 20s - loss: 7.4323e-05 - acc: 0.0000e+00 - val_loss: 1.5798e-04 - val_acc: 0.0000e+00\n",
      "Epoch 54/300\n",
      "13801/13801 [==============================] - 19s - loss: 7.5575e-05 - acc: 0.0000e+00 - val_loss: 1.2453e-04 - val_acc: 0.0000e+00\n",
      "Epoch 55/300\n",
      "13801/13801 [==============================] - 19s - loss: 7.3650e-05 - acc: 0.0000e+00 - val_loss: 1.2882e-04 - val_acc: 0.0000e+00\n",
      "Epoch 56/300\n"
     ]
    },
    {
     "name": "stdout",
     "output_type": "stream",
     "text": [
      "13801/13801 [==============================] - 20s - loss: 6.9256e-05 - acc: 0.0000e+00 - val_loss: 1.6756e-04 - val_acc: 0.0000e+00\n",
      "Epoch 57/300\n",
      "13801/13801 [==============================] - 20s - loss: 7.5244e-05 - acc: 0.0000e+00 - val_loss: 1.2315e-04 - val_acc: 0.0000e+00\n",
      "Epoch 58/300\n",
      "13801/13801 [==============================] - 20s - loss: 7.5652e-05 - acc: 0.0000e+00 - val_loss: 1.1780e-04 - val_acc: 0.0000e+00\n",
      "Epoch 59/300\n",
      "13801/13801 [==============================] - 20s - loss: 7.5993e-05 - acc: 0.0000e+00 - val_loss: 2.5360e-04 - val_acc: 0.0000e+00\n",
      "Epoch 60/300\n",
      "13801/13801 [==============================] - 19s - loss: 7.0021e-05 - acc: 0.0000e+00 - val_loss: 1.8405e-04 - val_acc: 0.0000e+00\n",
      "Epoch 61/300\n",
      "13801/13801 [==============================] - 20s - loss: 6.8316e-05 - acc: 0.0000e+00 - val_loss: 1.5847e-04 - val_acc: 0.0000e+00\n",
      "Epoch 62/300\n",
      "13801/13801 [==============================] - 19s - loss: 7.3811e-05 - acc: 0.0000e+00 - val_loss: 1.7920e-04 - val_acc: 0.0000e+00\n",
      "Epoch 63/300\n",
      "13801/13801 [==============================] - 20s - loss: 7.4169e-05 - acc: 0.0000e+00 - val_loss: 1.5316e-04 - val_acc: 0.0000e+00\n",
      "Epoch 64/300\n",
      "13801/13801 [==============================] - 19s - loss: 7.6046e-05 - acc: 0.0000e+00 - val_loss: 1.8284e-04 - val_acc: 0.0000e+00\n",
      "Epoch 65/300\n",
      "13801/13801 [==============================] - 19s - loss: 8.1405e-05 - acc: 0.0000e+00 - val_loss: 2.2487e-04 - val_acc: 0.0000e+00\n",
      "Epoch 66/300\n",
      "13801/13801 [==============================] - 18s - loss: 6.9531e-05 - acc: 0.0000e+00 - val_loss: 1.5244e-04 - val_acc: 0.0000e+00\n",
      "Epoch 67/300\n",
      "13801/13801 [==============================] - 19s - loss: 6.7373e-05 - acc: 0.0000e+00 - val_loss: 1.0915e-04 - val_acc: 0.0000e+00\n",
      "Epoch 68/300\n",
      "13801/13801 [==============================] - 19s - loss: 6.6516e-05 - acc: 0.0000e+00 - val_loss: 1.2027e-04 - val_acc: 0.0000e+00\n",
      "Epoch 69/300\n",
      "13801/13801 [==============================] - 19s - loss: 7.7954e-05 - acc: 0.0000e+00 - val_loss: 1.8294e-04 - val_acc: 0.0000e+00\n",
      "Epoch 70/300\n",
      "13801/13801 [==============================] - 19s - loss: 7.6958e-05 - acc: 0.0000e+00 - val_loss: 1.7126e-04 - val_acc: 0.0000e+00\n",
      "Epoch 71/300\n",
      "13801/13801 [==============================] - 19s - loss: 6.6948e-05 - acc: 0.0000e+00 - val_loss: 1.2334e-04 - val_acc: 0.0000e+00\n",
      "Epoch 72/300\n",
      "13801/13801 [==============================] - 23s - loss: 8.1297e-05 - acc: 0.0000e+00 - val_loss: 1.9726e-04 - val_acc: 0.0000e+00\n",
      "Epoch 73/300\n",
      "13801/13801 [==============================] - 21s - loss: 7.6876e-05 - acc: 0.0000e+00 - val_loss: 1.3920e-04 - val_acc: 0.0000e+00\n",
      "Epoch 74/300\n",
      "13801/13801 [==============================] - 20s - loss: 6.3275e-05 - acc: 0.0000e+00 - val_loss: 1.0208e-04 - val_acc: 0.0000e+00\n",
      "Epoch 75/300\n",
      "13801/13801 [==============================] - 18s - loss: 6.4480e-05 - acc: 0.0000e+00 - val_loss: 2.0924e-04 - val_acc: 0.0000e+00\n",
      "Epoch 76/300\n",
      "13801/13801 [==============================] - 19s - loss: 8.9165e-05 - acc: 0.0000e+00 - val_loss: 2.9156e-04 - val_acc: 0.0000e+00\n",
      "Epoch 77/300\n",
      "13801/13801 [==============================] - 20s - loss: 7.1003e-05 - acc: 0.0000e+00 - val_loss: 2.2993e-04 - val_acc: 0.0000e+00\n",
      "Epoch 78/300\n",
      "13801/13801 [==============================] - 19s - loss: 6.3119e-05 - acc: 0.0000e+00 - val_loss: 9.9961e-05 - val_acc: 0.0000e+00\n",
      "Epoch 79/300\n",
      "13801/13801 [==============================] - 18s - loss: 6.1893e-05 - acc: 0.0000e+00 - val_loss: 1.4276e-04 - val_acc: 0.0000e+00\n",
      "Epoch 80/300\n",
      "13801/13801 [==============================] - 19s - loss: 6.6000e-05 - acc: 0.0000e+00 - val_loss: 2.6073e-04 - val_acc: 0.0000e+00\n",
      "Epoch 81/300\n",
      "13801/13801 [==============================] - 20s - loss: 6.3313e-05 - acc: 0.0000e+00 - val_loss: 1.0700e-04 - val_acc: 0.0000e+00\n",
      "Epoch 82/300\n",
      "13801/13801 [==============================] - 18s - loss: 6.0393e-05 - acc: 0.0000e+00 - val_loss: 1.8426e-04 - val_acc: 0.0000e+00\n",
      "Epoch 83/300\n",
      "13801/13801 [==============================] - 19s - loss: 6.2475e-05 - acc: 0.0000e+00 - val_loss: 1.5125e-04 - val_acc: 0.0000e+00\n",
      "Epoch 84/300\n",
      "13801/13801 [==============================] - 18s - loss: 7.1739e-05 - acc: 0.0000e+00 - val_loss: 1.3937e-04 - val_acc: 0.0000e+00\n",
      "Epoch 85/300\n",
      "13801/13801 [==============================] - 19s - loss: 7.0765e-05 - acc: 0.0000e+00 - val_loss: 1.0203e-04 - val_acc: 0.0000e+00\n",
      "Epoch 86/300\n",
      "13801/13801 [==============================] - 18s - loss: 5.7081e-05 - acc: 0.0000e+00 - val_loss: 1.2238e-04 - val_acc: 0.0000e+00\n",
      "Epoch 87/300\n",
      "13801/13801 [==============================] - 18s - loss: 6.2250e-05 - acc: 0.0000e+00 - val_loss: 1.8352e-04 - val_acc: 0.0000e+00\n",
      "Epoch 88/300\n",
      "13801/13801 [==============================] - 18s - loss: 6.7909e-05 - acc: 0.0000e+00 - val_loss: 1.8522e-04 - val_acc: 0.0000e+00\n",
      "Epoch 89/300\n",
      "13801/13801 [==============================] - 18s - loss: 6.7722e-05 - acc: 0.0000e+00 - val_loss: 1.7789e-04 - val_acc: 0.0000e+00\n",
      "Epoch 90/300\n",
      "13801/13801 [==============================] - 18s - loss: 6.3459e-05 - acc: 0.0000e+00 - val_loss: 9.8871e-05 - val_acc: 0.0000e+00\n",
      "Epoch 91/300\n",
      "13801/13801 [==============================] - 18s - loss: 6.2544e-05 - acc: 0.0000e+00 - val_loss: 1.6143e-04 - val_acc: 0.0000e+00\n",
      "Epoch 92/300\n",
      "13801/13801 [==============================] - 19s - loss: 6.3435e-05 - acc: 0.0000e+00 - val_loss: 9.6427e-05 - val_acc: 0.0000e+00\n",
      "Epoch 93/300\n",
      "13801/13801 [==============================] - 19s - loss: 6.1949e-05 - acc: 0.0000e+00 - val_loss: 1.2084e-04 - val_acc: 0.0000e+00\n",
      "Epoch 94/300\n",
      "13801/13801 [==============================] - 21s - loss: 6.3611e-05 - acc: 0.0000e+00 - val_loss: 9.2830e-05 - val_acc: 0.0000e+00\n",
      "Epoch 95/300\n",
      "13801/13801 [==============================] - 19s - loss: 7.2340e-05 - acc: 0.0000e+00 - val_loss: 1.7560e-04 - val_acc: 0.0000e+00\n",
      "Epoch 96/300\n",
      "13801/13801 [==============================] - 20s - loss: 5.6824e-05 - acc: 0.0000e+00 - val_loss: 1.3008e-04 - val_acc: 0.0000e+00\n",
      "Epoch 97/300\n",
      "13801/13801 [==============================] - 19s - loss: 5.5537e-05 - acc: 0.0000e+00 - val_loss: 9.3201e-05 - val_acc: 0.0000e+00\n",
      "Epoch 98/300\n",
      "13801/13801 [==============================] - 19s - loss: 6.0336e-05 - acc: 0.0000e+00 - val_loss: 9.5576e-05 - val_acc: 0.0000e+00\n",
      "Epoch 99/300\n",
      "13801/13801 [==============================] - 19s - loss: 5.4408e-05 - acc: 0.0000e+00 - val_loss: 1.1635e-04 - val_acc: 0.0000e+00\n",
      "Epoch 100/300\n",
      "13801/13801 [==============================] - 19s - loss: 5.9764e-05 - acc: 0.0000e+00 - val_loss: 1.1294e-04 - val_acc: 0.0000e+00\n",
      "Epoch 101/300\n",
      "13801/13801 [==============================] - 18s - loss: 5.7181e-05 - acc: 0.0000e+00 - val_loss: 8.8277e-05 - val_acc: 0.0000e+00\n",
      "Epoch 102/300\n",
      "13801/13801 [==============================] - 19s - loss: 5.5209e-05 - acc: 0.0000e+00 - val_loss: 1.3768e-04 - val_acc: 0.0000e+00\n",
      "Epoch 103/300\n",
      "13801/13801 [==============================] - 19s - loss: 6.3415e-05 - acc: 0.0000e+00 - val_loss: 1.8172e-04 - val_acc: 0.0000e+00\n",
      "Epoch 104/300\n",
      "13801/13801 [==============================] - 19s - loss: 6.0963e-05 - acc: 0.0000e+00 - val_loss: 1.3163e-04 - val_acc: 0.0000e+00\n",
      "Epoch 105/300\n",
      "13801/13801 [==============================] - 19s - loss: 6.2547e-05 - acc: 0.0000e+00 - val_loss: 1.2041e-04 - val_acc: 0.0000e+00\n",
      "Epoch 106/300\n",
      "13801/13801 [==============================] - 20s - loss: 6.1521e-05 - acc: 0.0000e+00 - val_loss: 1.0855e-04 - val_acc: 0.0000e+00\n",
      "Epoch 107/300\n",
      "13801/13801 [==============================] - 19s - loss: 5.4848e-05 - acc: 0.0000e+00 - val_loss: 9.8056e-05 - val_acc: 0.0000e+00\n",
      "Epoch 108/300\n",
      "13801/13801 [==============================] - 19s - loss: 5.2724e-05 - acc: 0.0000e+00 - val_loss: 1.3037e-04 - val_acc: 0.0000e+00\n",
      "Epoch 109/300\n",
      "13801/13801 [==============================] - 21s - loss: 5.7351e-05 - acc: 0.0000e+00 - val_loss: 8.5848e-05 - val_acc: 0.0000e+00\n",
      "Epoch 110/300\n",
      "13801/13801 [==============================] - 19s - loss: 5.3587e-05 - acc: 0.0000e+00 - val_loss: 8.9964e-05 - val_acc: 0.0000e+00\n",
      "Epoch 111/300\n",
      "13801/13801 [==============================] - 18s - loss: 4.9974e-05 - acc: 0.0000e+00 - val_loss: 1.1792e-04 - val_acc: 0.0000e+00\n",
      "Epoch 112/300\n"
     ]
    },
    {
     "name": "stdout",
     "output_type": "stream",
     "text": [
      "13801/13801 [==============================] - 19s - loss: 5.2964e-05 - acc: 0.0000e+00 - val_loss: 9.2523e-05 - val_acc: 0.0000e+00\n",
      "Epoch 113/300\n",
      "13801/13801 [==============================] - 19s - loss: 6.3993e-05 - acc: 0.0000e+00 - val_loss: 2.1575e-04 - val_acc: 0.0000e+00\n",
      "Epoch 114/300\n",
      "13801/13801 [==============================] - 19s - loss: 5.0215e-05 - acc: 0.0000e+00 - val_loss: 8.9052e-05 - val_acc: 0.0000e+00\n",
      "Epoch 115/300\n",
      "13801/13801 [==============================] - 19s - loss: 5.1551e-05 - acc: 0.0000e+00 - val_loss: 8.9702e-05 - val_acc: 0.0000e+00\n",
      "Epoch 116/300\n",
      "13801/13801 [==============================] - 19s - loss: 4.8610e-05 - acc: 0.0000e+00 - val_loss: 8.4827e-05 - val_acc: 0.0000e+00\n",
      "Epoch 117/300\n",
      "13801/13801 [==============================] - 20s - loss: 4.6071e-05 - acc: 0.0000e+00 - val_loss: 9.6913e-05 - val_acc: 0.0000e+00\n",
      "Epoch 118/300\n",
      "13801/13801 [==============================] - 19s - loss: 5.1617e-05 - acc: 0.0000e+00 - val_loss: 8.8872e-05 - val_acc: 0.0000e+00\n",
      "Epoch 119/300\n",
      "13801/13801 [==============================] - 19s - loss: 4.8594e-05 - acc: 0.0000e+00 - val_loss: 8.3117e-05 - val_acc: 0.0000e+00\n",
      "Epoch 120/300\n",
      "13801/13801 [==============================] - 19s - loss: 4.8244e-05 - acc: 0.0000e+00 - val_loss: 8.5765e-05 - val_acc: 0.0000e+00\n",
      "Epoch 121/300\n",
      "13801/13801 [==============================] - 18s - loss: 5.1736e-05 - acc: 0.0000e+00 - val_loss: 8.2395e-05 - val_acc: 0.0000e+00\n",
      "Epoch 122/300\n",
      "13801/13801 [==============================] - 18s - loss: 4.9037e-05 - acc: 0.0000e+00 - val_loss: 9.5676e-05 - val_acc: 0.0000e+00\n",
      "Epoch 123/300\n",
      "13801/13801 [==============================] - 19s - loss: 4.9357e-05 - acc: 0.0000e+00 - val_loss: 1.0126e-04 - val_acc: 0.0000e+00\n",
      "Epoch 124/300\n",
      "13801/13801 [==============================] - 18s - loss: 4.8104e-05 - acc: 0.0000e+00 - val_loss: 1.3462e-04 - val_acc: 0.0000e+00\n",
      "Epoch 125/300\n",
      "13801/13801 [==============================] - 19s - loss: 5.1920e-05 - acc: 0.0000e+00 - val_loss: 1.8830e-04 - val_acc: 0.0000e+00\n",
      "Epoch 126/300\n",
      "13801/13801 [==============================] - 19s - loss: 4.6096e-05 - acc: 0.0000e+00 - val_loss: 8.0476e-05 - val_acc: 0.0000e+00\n",
      "Epoch 127/300\n",
      "13801/13801 [==============================] - 20s - loss: 5.2493e-05 - acc: 0.0000e+00 - val_loss: 8.1854e-05 - val_acc: 0.0000e+00\n",
      "Epoch 128/300\n",
      "13801/13801 [==============================] - 21s - loss: 5.0191e-05 - acc: 0.0000e+00 - val_loss: 8.4101e-05 - val_acc: 0.0000e+00\n",
      "Epoch 129/300\n",
      "13801/13801 [==============================] - 19s - loss: 4.5274e-05 - acc: 0.0000e+00 - val_loss: 1.6723e-04 - val_acc: 0.0000e+00\n",
      "Epoch 130/300\n",
      "13801/13801 [==============================] - 19s - loss: 4.5620e-05 - acc: 0.0000e+00 - val_loss: 9.4767e-05 - val_acc: 0.0000e+00\n",
      "Epoch 131/300\n",
      "13801/13801 [==============================] - 21s - loss: 4.7617e-05 - acc: 0.0000e+00 - val_loss: 8.0999e-05 - val_acc: 0.0000e+00\n",
      "Epoch 132/300\n",
      "13801/13801 [==============================] - 19s - loss: 4.4870e-05 - acc: 0.0000e+00 - val_loss: 8.1743e-05 - val_acc: 0.0000e+00\n",
      "Epoch 133/300\n",
      "13801/13801 [==============================] - 20s - loss: 4.7622e-05 - acc: 0.0000e+00 - val_loss: 1.0808e-04 - val_acc: 0.0000e+00\n",
      "Epoch 134/300\n",
      "13801/13801 [==============================] - 19s - loss: 4.7021e-05 - acc: 0.0000e+00 - val_loss: 8.1504e-05 - val_acc: 0.0000e+00\n",
      "Epoch 135/300\n",
      "13801/13801 [==============================] - 20s - loss: 4.6274e-05 - acc: 0.0000e+00 - val_loss: 1.0647e-04 - val_acc: 0.0000e+00\n",
      "Epoch 136/300\n",
      "13801/13801 [==============================] - 20s - loss: 4.7142e-05 - acc: 0.0000e+00 - val_loss: 8.0819e-05 - val_acc: 0.0000e+00\n",
      "Epoch 137/300\n",
      "13801/13801 [==============================] - 19s - loss: 4.7519e-05 - acc: 0.0000e+00 - val_loss: 8.8904e-05 - val_acc: 0.0000e+00\n",
      "Epoch 138/300\n",
      "13801/13801 [==============================] - 20s - loss: 4.6815e-05 - acc: 0.0000e+00 - val_loss: 1.7585e-04 - val_acc: 0.0000e+00\n",
      "Epoch 139/300\n",
      "13801/13801 [==============================] - 21s - loss: 6.6971e-05 - acc: 0.0000e+00 - val_loss: 3.2381e-04 - val_acc: 0.0000e+00\n",
      "Epoch 140/300\n",
      "13801/13801 [==============================] - 19s - loss: 5.9259e-05 - acc: 0.0000e+00 - val_loss: 9.0408e-05 - val_acc: 0.0000e+00\n",
      "Epoch 141/300\n",
      "13801/13801 [==============================] - 18s - loss: 4.5127e-05 - acc: 0.0000e+00 - val_loss: 8.1609e-05 - val_acc: 0.0000e+00\n",
      "Epoch 142/300\n",
      "13801/13801 [==============================] - 20s - loss: 4.7533e-05 - acc: 0.0000e+00 - val_loss: 7.7114e-05 - val_acc: 0.0000e+00\n",
      "Epoch 143/300\n",
      "13801/13801 [==============================] - 19s - loss: 4.3161e-05 - acc: 0.0000e+00 - val_loss: 7.6314e-05 - val_acc: 0.0000e+00\n",
      "Epoch 144/300\n",
      "13801/13801 [==============================] - 18s - loss: 4.7725e-05 - acc: 0.0000e+00 - val_loss: 7.7610e-05 - val_acc: 0.0000e+00\n",
      "Epoch 145/300\n",
      "13801/13801 [==============================] - 18s - loss: 4.1672e-05 - acc: 0.0000e+00 - val_loss: 8.4683e-05 - val_acc: 0.0000e+00\n",
      "Epoch 146/300\n",
      "13801/13801 [==============================] - 19s - loss: 4.1720e-05 - acc: 0.0000e+00 - val_loss: 7.4527e-05 - val_acc: 0.0000e+00\n",
      "Epoch 147/300\n",
      "13801/13801 [==============================] - 18s - loss: 4.1994e-05 - acc: 0.0000e+00 - val_loss: 9.8735e-05 - val_acc: 0.0000e+00\n",
      "Epoch 148/300\n",
      "13801/13801 [==============================] - 19s - loss: 4.4242e-05 - acc: 0.0000e+00 - val_loss: 8.0068e-05 - val_acc: 0.0000e+00\n",
      "Epoch 149/300\n",
      "13801/13801 [==============================] - 19s - loss: 4.4430e-05 - acc: 0.0000e+00 - val_loss: 7.5373e-05 - val_acc: 0.0000e+00\n",
      "Epoch 150/300\n",
      "13801/13801 [==============================] - 18s - loss: 4.2004e-05 - acc: 0.0000e+00 - val_loss: 8.2286e-05 - val_acc: 0.0000e+00\n",
      "Epoch 151/300\n",
      "13801/13801 [==============================] - 18s - loss: 4.1823e-05 - acc: 0.0000e+00 - val_loss: 1.3206e-04 - val_acc: 0.0000e+00\n",
      "Epoch 152/300\n",
      "13801/13801 [==============================] - 19s - loss: 3.9341e-05 - acc: 0.0000e+00 - val_loss: 1.1101e-04 - val_acc: 0.0000e+00\n",
      "Epoch 153/300\n",
      "13801/13801 [==============================] - 18s - loss: 4.8059e-05 - acc: 0.0000e+00 - val_loss: 9.7226e-05 - val_acc: 0.0000e+00\n",
      "Epoch 154/300\n",
      "13801/13801 [==============================] - 19s - loss: 4.0912e-05 - acc: 0.0000e+00 - val_loss: 7.3188e-05 - val_acc: 0.0000e+00\n",
      "Epoch 155/300\n",
      "13801/13801 [==============================] - 19s - loss: 3.9951e-05 - acc: 0.0000e+00 - val_loss: 1.2474e-04 - val_acc: 0.0000e+00\n",
      "Epoch 156/300\n",
      "13801/13801 [==============================] - 19s - loss: 4.2542e-05 - acc: 0.0000e+00 - val_loss: 7.4191e-05 - val_acc: 0.0000e+00\n",
      "Epoch 157/300\n",
      "13801/13801 [==============================] - 18s - loss: 4.3083e-05 - acc: 0.0000e+00 - val_loss: 8.9798e-05 - val_acc: 0.0000e+00\n",
      "Epoch 158/300\n",
      "13801/13801 [==============================] - 19s - loss: 4.2587e-05 - acc: 0.0000e+00 - val_loss: 8.7157e-05 - val_acc: 0.0000e+00\n",
      "Epoch 159/300\n",
      "13801/13801 [==============================] - 21s - loss: 4.4888e-05 - acc: 0.0000e+00 - val_loss: 9.2526e-05 - val_acc: 0.0000e+00\n",
      "Epoch 160/300\n",
      "13801/13801 [==============================] - 19s - loss: 4.0686e-05 - acc: 0.0000e+00 - val_loss: 7.7102e-05 - val_acc: 0.0000e+00\n",
      "Epoch 161/300\n",
      "13801/13801 [==============================] - 20s - loss: 4.2789e-05 - acc: 0.0000e+00 - val_loss: 9.6980e-05 - val_acc: 0.0000e+00\n",
      "Epoch 162/300\n",
      "13801/13801 [==============================] - 20s - loss: 4.0842e-05 - acc: 0.0000e+00 - val_loss: 8.5392e-05 - val_acc: 0.0000e+00\n",
      "Epoch 163/300\n",
      "13801/13801 [==============================] - 19s - loss: 4.0295e-05 - acc: 0.0000e+00 - val_loss: 9.1978e-05 - val_acc: 0.0000e+00\n",
      "Epoch 164/300\n",
      "13801/13801 [==============================] - 18s - loss: 4.2933e-05 - acc: 0.0000e+00 - val_loss: 1.1650e-04 - val_acc: 0.0000e+00\n",
      "Epoch 165/300\n",
      "13801/13801 [==============================] - 18s - loss: 4.0717e-05 - acc: 0.0000e+00 - val_loss: 1.7289e-04 - val_acc: 0.0000e+00\n",
      "Epoch 166/300\n",
      "13801/13801 [==============================] - 18s - loss: 4.1033e-05 - acc: 0.0000e+00 - val_loss: 1.4019e-04 - val_acc: 0.0000e+00\n",
      "Epoch 167/300\n"
     ]
    },
    {
     "name": "stdout",
     "output_type": "stream",
     "text": [
      "13801/13801 [==============================] - 18s - loss: 4.8898e-05 - acc: 0.0000e+00 - val_loss: 8.0995e-05 - val_acc: 0.0000e+00\n",
      "Epoch 168/300\n",
      "13801/13801 [==============================] - 18s - loss: 4.0547e-05 - acc: 0.0000e+00 - val_loss: 6.8751e-05 - val_acc: 0.0000e+00\n",
      "Epoch 169/300\n",
      "13801/13801 [==============================] - 19s - loss: 3.5886e-05 - acc: 0.0000e+00 - val_loss: 8.0521e-05 - val_acc: 0.0000e+00\n",
      "Epoch 170/300\n",
      "13801/13801 [==============================] - 19s - loss: 3.8390e-05 - acc: 0.0000e+00 - val_loss: 8.7637e-05 - val_acc: 0.0000e+00\n",
      "Epoch 171/300\n",
      "13801/13801 [==============================] - 19s - loss: 4.2593e-05 - acc: 0.0000e+00 - val_loss: 1.7974e-04 - val_acc: 0.0000e+00\n",
      "Epoch 172/300\n",
      "13801/13801 [==============================] - 18s - loss: 4.1809e-05 - acc: 0.0000e+00 - val_loss: 7.3465e-05 - val_acc: 0.0000e+00\n",
      "Epoch 173/300\n",
      "13801/13801 [==============================] - 18s - loss: 3.9760e-05 - acc: 0.0000e+00 - val_loss: 7.9742e-05 - val_acc: 0.0000e+00\n",
      "Epoch 174/300\n",
      "13801/13801 [==============================] - 19s - loss: 4.1272e-05 - acc: 0.0000e+00 - val_loss: 9.2224e-05 - val_acc: 0.0000e+00\n",
      "Epoch 175/300\n",
      "13801/13801 [==============================] - 19s - loss: 3.8347e-05 - acc: 0.0000e+00 - val_loss: 6.7677e-05 - val_acc: 0.0000e+00\n",
      "Epoch 176/300\n",
      "13801/13801 [==============================] - 19s - loss: 4.3086e-05 - acc: 0.0000e+00 - val_loss: 6.8535e-05 - val_acc: 0.0000e+00\n",
      "Epoch 177/300\n",
      "13801/13801 [==============================] - 19s - loss: 3.8578e-05 - acc: 0.0000e+00 - val_loss: 6.7844e-05 - val_acc: 0.0000e+00\n",
      "Epoch 178/300\n",
      "13801/13801 [==============================] - 20s - loss: 3.5926e-05 - acc: 0.0000e+00 - val_loss: 6.8494e-05 - val_acc: 0.0000e+00\n",
      "Epoch 179/300\n",
      "13801/13801 [==============================] - 20s - loss: 3.9212e-05 - acc: 0.0000e+00 - val_loss: 1.1818e-04 - val_acc: 0.0000e+00\n",
      "Epoch 180/300\n",
      "13801/13801 [==============================] - 19s - loss: 4.0345e-05 - acc: 0.0000e+00 - val_loss: 8.3167e-05 - val_acc: 0.0000e+00\n",
      "Epoch 181/300\n",
      "13801/13801 [==============================] - 19s - loss: 3.5909e-05 - acc: 0.0000e+00 - val_loss: 9.4012e-05 - val_acc: 0.0000e+00\n",
      "Epoch 182/300\n",
      "13801/13801 [==============================] - 18s - loss: 4.0033e-05 - acc: 0.0000e+00 - val_loss: 6.6309e-05 - val_acc: 0.0000e+00\n",
      "Epoch 183/300\n",
      "13801/13801 [==============================] - 18s - loss: 4.1621e-05 - acc: 0.0000e+00 - val_loss: 7.8046e-05 - val_acc: 0.0000e+00\n",
      "Epoch 184/300\n",
      "13801/13801 [==============================] - 18s - loss: 3.7026e-05 - acc: 0.0000e+00 - val_loss: 6.4157e-05 - val_acc: 0.0000e+00\n",
      "Epoch 185/300\n",
      "13801/13801 [==============================] - 20s - loss: 3.6947e-05 - acc: 0.0000e+00 - val_loss: 7.7060e-05 - val_acc: 0.0000e+00\n",
      "Epoch 186/300\n",
      "13801/13801 [==============================] - 19s - loss: 3.5996e-05 - acc: 0.0000e+00 - val_loss: 6.4248e-05 - val_acc: 0.0000e+00\n",
      "Epoch 187/300\n",
      "13801/13801 [==============================] - 18s - loss: 4.0684e-05 - acc: 0.0000e+00 - val_loss: 2.0463e-04 - val_acc: 0.0000e+00\n",
      "Epoch 188/300\n",
      "13801/13801 [==============================] - 19s - loss: 4.3614e-05 - acc: 0.0000e+00 - val_loss: 1.0443e-04 - val_acc: 0.0000e+00\n",
      "Epoch 189/300\n",
      "13801/13801 [==============================] - 18s - loss: 3.6127e-05 - acc: 0.0000e+00 - val_loss: 7.6186e-05 - val_acc: 0.0000e+00\n",
      "Epoch 190/300\n",
      "13801/13801 [==============================] - 19s - loss: 3.8846e-05 - acc: 0.0000e+00 - val_loss: 1.1970e-04 - val_acc: 0.0000e+00\n",
      "Epoch 191/300\n",
      "13801/13801 [==============================] - 20s - loss: 4.1557e-05 - acc: 0.0000e+00 - val_loss: 7.2444e-05 - val_acc: 0.0000e+00\n",
      "Epoch 192/300\n",
      "13801/13801 [==============================] - 19s - loss: 3.3486e-05 - acc: 0.0000e+00 - val_loss: 7.0264e-05 - val_acc: 0.0000e+00\n",
      "Epoch 193/300\n",
      "13801/13801 [==============================] - 19s - loss: 3.5929e-05 - acc: 0.0000e+00 - val_loss: 6.2401e-05 - val_acc: 0.0000e+00\n",
      "Epoch 194/300\n",
      "13801/13801 [==============================] - 19s - loss: 3.6037e-05 - acc: 0.0000e+00 - val_loss: 7.3056e-05 - val_acc: 0.0000e+00\n",
      "Epoch 195/300\n",
      "13801/13801 [==============================] - 19s - loss: 3.9354e-05 - acc: 0.0000e+00 - val_loss: 8.8243e-05 - val_acc: 0.0000e+00\n",
      "Epoch 196/300\n",
      "13801/13801 [==============================] - 18s - loss: 3.8775e-05 - acc: 0.0000e+00 - val_loss: 6.0726e-05 - val_acc: 0.0000e+00\n",
      "Epoch 197/300\n",
      "13801/13801 [==============================] - 18s - loss: 3.7914e-05 - acc: 0.0000e+00 - val_loss: 1.0361e-04 - val_acc: 0.0000e+00\n",
      "Epoch 198/300\n",
      "13801/13801 [==============================] - 20s - loss: 3.3615e-05 - acc: 0.0000e+00 - val_loss: 6.3489e-05 - val_acc: 0.0000e+00\n",
      "Epoch 199/300\n",
      "13801/13801 [==============================] - 19s - loss: 3.4523e-05 - acc: 0.0000e+00 - val_loss: 7.0345e-05 - val_acc: 0.0000e+00\n",
      "Epoch 200/300\n",
      "13801/13801 [==============================] - 18s - loss: 3.7061e-05 - acc: 0.0000e+00 - val_loss: 6.6732e-05 - val_acc: 0.0000e+00\n",
      "Epoch 201/300\n",
      "13801/13801 [==============================] - 19s - loss: 3.4129e-05 - acc: 0.0000e+00 - val_loss: 6.8495e-05 - val_acc: 0.0000e+00\n",
      "Epoch 202/300\n",
      "13801/13801 [==============================] - 19s - loss: 3.7351e-05 - acc: 0.0000e+00 - val_loss: 9.4533e-05 - val_acc: 0.0000e+00\n",
      "Epoch 203/300\n",
      "13801/13801 [==============================] - 19s - loss: 3.4931e-05 - acc: 0.0000e+00 - val_loss: 9.4184e-05 - val_acc: 0.0000e+00\n",
      "Epoch 204/300\n",
      "13801/13801 [==============================] - 19s - loss: 3.4670e-05 - acc: 0.0000e+00 - val_loss: 8.5216e-05 - val_acc: 0.0000e+00\n",
      "Epoch 205/300\n",
      "13801/13801 [==============================] - 19s - loss: 3.5586e-05 - acc: 0.0000e+00 - val_loss: 6.6788e-05 - val_acc: 0.0000e+00\n",
      "Epoch 206/300\n",
      "13801/13801 [==============================] - 19s - loss: 3.4265e-05 - acc: 0.0000e+00 - val_loss: 1.3984e-04 - val_acc: 0.0000e+00\n",
      "Epoch 207/300\n",
      "13801/13801 [==============================] - 18s - loss: 3.9234e-05 - acc: 0.0000e+00 - val_loss: 6.0081e-05 - val_acc: 0.0000e+00\n",
      "Epoch 208/300\n",
      "13801/13801 [==============================] - 18s - loss: 4.0191e-05 - acc: 0.0000e+00 - val_loss: 1.0389e-04 - val_acc: 0.0000e+00\n",
      "Epoch 209/300\n",
      "13801/13801 [==============================] - 18s - loss: 3.3771e-05 - acc: 0.0000e+00 - val_loss: 7.8053e-05 - val_acc: 0.0000e+00\n",
      "Epoch 210/300\n",
      "13801/13801 [==============================] - 18s - loss: 3.3395e-05 - acc: 0.0000e+00 - val_loss: 1.2576e-04 - val_acc: 0.0000e+00\n",
      "Epoch 211/300\n",
      "13801/13801 [==============================] - 18s - loss: 3.6555e-05 - acc: 0.0000e+00 - val_loss: 7.2477e-05 - val_acc: 0.0000e+00\n",
      "Epoch 212/300\n",
      "13801/13801 [==============================] - 19s - loss: 3.4945e-05 - acc: 0.0000e+00 - val_loss: 9.3056e-05 - val_acc: 0.0000e+00\n",
      "Epoch 213/300\n",
      "13801/13801 [==============================] - 19s - loss: 3.5473e-05 - acc: 0.0000e+00 - val_loss: 7.1424e-05 - val_acc: 0.0000e+00\n",
      "Epoch 214/300\n",
      "13801/13801 [==============================] - 21s - loss: 3.4398e-05 - acc: 0.0000e+00 - val_loss: 9.3716e-05 - val_acc: 0.0000e+00\n",
      "Epoch 215/300\n",
      "13801/13801 [==============================] - 19s - loss: 3.5743e-05 - acc: 0.0000e+00 - val_loss: 6.6341e-05 - val_acc: 0.0000e+00\n",
      "Epoch 216/300\n",
      "13801/13801 [==============================] - 19s - loss: 3.1894e-05 - acc: 0.0000e+00 - val_loss: 5.8150e-05 - val_acc: 0.0000e+00\n",
      "Epoch 217/300\n",
      "13801/13801 [==============================] - 19s - loss: 3.2678e-05 - acc: 0.0000e+00 - val_loss: 6.8537e-05 - val_acc: 0.0000e+00\n",
      "Epoch 218/300\n",
      "13801/13801 [==============================] - 19s - loss: 4.1008e-05 - acc: 0.0000e+00 - val_loss: 9.8633e-05 - val_acc: 0.0000e+00\n",
      "Epoch 219/300\n",
      "13801/13801 [==============================] - 18s - loss: 3.8410e-05 - acc: 0.0000e+00 - val_loss: 8.0398e-05 - val_acc: 0.0000e+00\n",
      "Epoch 220/300\n",
      "13801/13801 [==============================] - 19s - loss: 3.3095e-05 - acc: 0.0000e+00 - val_loss: 8.2878e-05 - val_acc: 0.0000e+00\n",
      "Epoch 221/300\n",
      "13801/13801 [==============================] - 18s - loss: 3.0569e-05 - acc: 0.0000e+00 - val_loss: 5.7120e-05 - val_acc: 0.0000e+00\n",
      "Epoch 222/300\n"
     ]
    },
    {
     "name": "stdout",
     "output_type": "stream",
     "text": [
      "13801/13801 [==============================] - 19s - loss: 3.1583e-05 - acc: 0.0000e+00 - val_loss: 5.8311e-05 - val_acc: 0.0000e+00\n",
      "Epoch 223/300\n",
      "13801/13801 [==============================] - 18s - loss: 3.1790e-05 - acc: 0.0000e+00 - val_loss: 5.9624e-05 - val_acc: 0.0000e+00\n",
      "Epoch 224/300\n",
      "13801/13801 [==============================] - 19s - loss: 3.0798e-05 - acc: 0.0000e+00 - val_loss: 5.8020e-05 - val_acc: 0.0000e+00\n",
      "Epoch 225/300\n",
      "13801/13801 [==============================] - 19s - loss: 3.0259e-05 - acc: 0.0000e+00 - val_loss: 5.6575e-05 - val_acc: 0.0000e+00\n",
      "Epoch 226/300\n",
      "13801/13801 [==============================] - 19s - loss: 3.3945e-05 - acc: 0.0000e+00 - val_loss: 7.1700e-05 - val_acc: 0.0000e+00\n",
      "Epoch 227/300\n",
      "13801/13801 [==============================] - 18s - loss: 3.4730e-05 - acc: 0.0000e+00 - val_loss: 5.6186e-05 - val_acc: 0.0000e+00\n",
      "Epoch 228/300\n",
      "13801/13801 [==============================] - 20s - loss: 3.3454e-05 - acc: 0.0000e+00 - val_loss: 8.3944e-05 - val_acc: 0.0000e+00\n",
      "Epoch 229/300\n",
      "13801/13801 [==============================] - 19s - loss: 3.1481e-05 - acc: 0.0000e+00 - val_loss: 9.0448e-05 - val_acc: 0.0000e+00\n",
      "Epoch 230/300\n",
      "13801/13801 [==============================] - 19s - loss: 3.4038e-05 - acc: 0.0000e+00 - val_loss: 7.3691e-05 - val_acc: 0.0000e+00\n",
      "Epoch 231/300\n",
      "13801/13801 [==============================] - 19s - loss: 3.1543e-05 - acc: 0.0000e+00 - val_loss: 6.4954e-05 - val_acc: 0.0000e+00\n",
      "Epoch 232/300\n",
      "13801/13801 [==============================] - 19s - loss: 3.0737e-05 - acc: 0.0000e+00 - val_loss: 6.0338e-05 - val_acc: 0.0000e+00\n",
      "Epoch 233/300\n",
      "13801/13801 [==============================] - 19s - loss: 3.1680e-05 - acc: 0.0000e+00 - val_loss: 7.3448e-05 - val_acc: 0.0000e+00\n",
      "Epoch 234/300\n",
      "13801/13801 [==============================] - 18s - loss: 3.1973e-05 - acc: 0.0000e+00 - val_loss: 6.9950e-05 - val_acc: 0.0000e+00\n",
      "Epoch 235/300\n",
      "13801/13801 [==============================] - 18s - loss: 3.3348e-05 - acc: 0.0000e+00 - val_loss: 6.9638e-05 - val_acc: 0.0000e+00\n",
      "Epoch 236/300\n",
      "13801/13801 [==============================] - 20s - loss: 3.0820e-05 - acc: 0.0000e+00 - val_loss: 5.7499e-05 - val_acc: 0.0000e+00\n",
      "Epoch 237/300\n",
      "13801/13801 [==============================] - 19s - loss: 3.2425e-05 - acc: 0.0000e+00 - val_loss: 8.0996e-05 - val_acc: 0.0000e+00\n",
      "Epoch 238/300\n",
      "13801/13801 [==============================] - 18s - loss: 3.2138e-05 - acc: 0.0000e+00 - val_loss: 5.8548e-05 - val_acc: 0.0000e+00\n",
      "Epoch 239/300\n",
      "13801/13801 [==============================] - 19s - loss: 3.2753e-05 - acc: 0.0000e+00 - val_loss: 7.1959e-05 - val_acc: 0.0000e+00\n",
      "Epoch 240/300\n",
      "13801/13801 [==============================] - 19s - loss: 3.0258e-05 - acc: 0.0000e+00 - val_loss: 6.3815e-05 - val_acc: 0.0000e+00\n",
      "Epoch 241/300\n",
      "13801/13801 [==============================] - 19s - loss: 3.1364e-05 - acc: 0.0000e+00 - val_loss: 6.9582e-05 - val_acc: 0.0000e+00\n",
      "Epoch 242/300\n",
      "13801/13801 [==============================] - 19s - loss: 3.4353e-05 - acc: 0.0000e+00 - val_loss: 9.9734e-05 - val_acc: 0.0000e+00\n",
      "Epoch 243/300\n",
      "13801/13801 [==============================] - 19s - loss: 3.0599e-05 - acc: 0.0000e+00 - val_loss: 5.5819e-05 - val_acc: 0.0000e+00\n",
      "Epoch 244/300\n",
      "13801/13801 [==============================] - 21s - loss: 3.5592e-05 - acc: 0.0000e+00 - val_loss: 7.4337e-05 - val_acc: 0.0000e+00\n",
      "Epoch 245/300\n",
      "13801/13801 [==============================] - 18s - loss: 3.6785e-05 - acc: 0.0000e+00 - val_loss: 9.2471e-05 - val_acc: 0.0000e+00\n",
      "Epoch 246/300\n",
      "13801/13801 [==============================] - 20s - loss: 4.1093e-05 - acc: 0.0000e+00 - val_loss: 1.1217e-04 - val_acc: 0.0000e+00\n",
      "Epoch 247/300\n",
      "13801/13801 [==============================] - 18s - loss: 2.9770e-05 - acc: 0.0000e+00 - val_loss: 5.8048e-05 - val_acc: 0.0000e+00\n",
      "Epoch 248/300\n",
      "13801/13801 [==============================] - 18s - loss: 2.9017e-05 - acc: 0.0000e+00 - val_loss: 8.6317e-05 - val_acc: 0.0000e+00\n",
      "Epoch 249/300\n",
      "13801/13801 [==============================] - 19s - loss: 3.1761e-05 - acc: 0.0000e+00 - val_loss: 5.7927e-05 - val_acc: 0.0000e+00\n",
      "Epoch 250/300\n",
      "13801/13801 [==============================] - 19s - loss: 3.2387e-05 - acc: 0.0000e+00 - val_loss: 8.3342e-05 - val_acc: 0.0000e+00\n",
      "Epoch 251/300\n",
      "13801/13801 [==============================] - 19s - loss: 2.9203e-05 - acc: 0.0000e+00 - val_loss: 6.2700e-05 - val_acc: 0.0000e+00\n",
      "Epoch 252/300\n",
      "13801/13801 [==============================] - 20s - loss: 2.8736e-05 - acc: 0.0000e+00 - val_loss: 8.4971e-05 - val_acc: 0.0000e+00\n",
      "Epoch 253/300\n",
      "13801/13801 [==============================] - 20s - loss: 2.7752e-05 - acc: 0.0000e+00 - val_loss: 5.8828e-05 - val_acc: 0.0000e+00\n",
      "Epoch 254/300\n",
      "13801/13801 [==============================] - 19s - loss: 2.9553e-05 - acc: 0.0000e+00 - val_loss: 7.4567e-05 - val_acc: 0.0000e+00\n",
      "Epoch 255/300\n",
      "13801/13801 [==============================] - 19s - loss: 3.0380e-05 - acc: 0.0000e+00 - val_loss: 9.6474e-05 - val_acc: 0.0000e+00\n",
      "Epoch 256/300\n",
      "13801/13801 [==============================] - 19s - loss: 2.9502e-05 - acc: 0.0000e+00 - val_loss: 6.5707e-05 - val_acc: 0.0000e+00\n",
      "Epoch 257/300\n",
      "13801/13801 [==============================] - 19s - loss: 2.9837e-05 - acc: 0.0000e+00 - val_loss: 5.9245e-05 - val_acc: 0.0000e+00\n",
      "Epoch 258/300\n",
      "13801/13801 [==============================] - 19s - loss: 2.9232e-05 - acc: 0.0000e+00 - val_loss: 7.5563e-05 - val_acc: 0.0000e+00\n",
      "Epoch 259/300\n",
      "13801/13801 [==============================] - 18s - loss: 2.8978e-05 - acc: 0.0000e+00 - val_loss: 6.7713e-05 - val_acc: 0.0000e+00\n",
      "Epoch 260/300\n",
      "13801/13801 [==============================] - 19s - loss: 3.2725e-05 - acc: 0.0000e+00 - val_loss: 5.6351e-05 - val_acc: 0.0000e+00\n",
      "Epoch 261/300\n",
      "13801/13801 [==============================] - 18s - loss: 3.0147e-05 - acc: 0.0000e+00 - val_loss: 8.0857e-05 - val_acc: 0.0000e+00\n",
      "Epoch 262/300\n",
      "13801/13801 [==============================] - 18s - loss: 3.5068e-05 - acc: 0.0000e+00 - val_loss: 1.0056e-04 - val_acc: 0.0000e+00\n",
      "Epoch 263/300\n",
      "13801/13801 [==============================] - 19s - loss: 3.1337e-05 - acc: 0.0000e+00 - val_loss: 5.4146e-05 - val_acc: 0.0000e+00\n",
      "Epoch 264/300\n",
      "13801/13801 [==============================] - 21s - loss: 2.8397e-05 - acc: 0.0000e+00 - val_loss: 6.1360e-05 - val_acc: 0.0000e+00\n",
      "Epoch 265/300\n",
      "13801/13801 [==============================] - 19s - loss: 2.9541e-05 - acc: 0.0000e+00 - val_loss: 5.9202e-05 - val_acc: 0.0000e+00\n",
      "Epoch 266/300\n",
      "13801/13801 [==============================] - 19s - loss: 3.1176e-05 - acc: 0.0000e+00 - val_loss: 5.4456e-05 - val_acc: 0.0000e+00\n",
      "Epoch 267/300\n",
      "13801/13801 [==============================] - 18s - loss: 2.8275e-05 - acc: 0.0000e+00 - val_loss: 5.7499e-05 - val_acc: 0.0000e+00\n",
      "Epoch 268/300\n",
      "13801/13801 [==============================] - 20s - loss: 2.7898e-05 - acc: 0.0000e+00 - val_loss: 5.5775e-05 - val_acc: 0.0000e+00\n",
      "Epoch 269/300\n",
      "13801/13801 [==============================] - 20s - loss: 2.9818e-05 - acc: 0.0000e+00 - val_loss: 5.4113e-05 - val_acc: 0.0000e+00\n",
      "Epoch 270/300\n",
      "13801/13801 [==============================] - 21s - loss: 3.2899e-05 - acc: 0.0000e+00 - val_loss: 5.6793e-05 - val_acc: 0.0000e+00\n",
      "Epoch 271/300\n",
      "13801/13801 [==============================] - 18s - loss: 2.8144e-05 - acc: 0.0000e+00 - val_loss: 6.6938e-05 - val_acc: 0.0000e+00\n",
      "Epoch 272/300\n",
      "13801/13801 [==============================] - 21s - loss: 2.9473e-05 - acc: 0.0000e+00 - val_loss: 5.7557e-05 - val_acc: 0.0000e+00\n",
      "Epoch 273/300\n",
      "13801/13801 [==============================] - 19s - loss: 2.8231e-05 - acc: 0.0000e+00 - val_loss: 9.1914e-05 - val_acc: 0.0000e+00\n",
      "Epoch 274/300\n",
      "13801/13801 [==============================] - 18s - loss: 2.9283e-05 - acc: 0.0000e+00 - val_loss: 5.3792e-05 - val_acc: 0.0000e+00\n",
      "Epoch 275/300\n",
      "13801/13801 [==============================] - 18s - loss: 2.8439e-05 - acc: 0.0000e+00 - val_loss: 5.4317e-05 - val_acc: 0.0000e+00\n",
      "Epoch 276/300\n",
      "13801/13801 [==============================] - 18s - loss: 3.0432e-05 - acc: 0.0000e+00 - val_loss: 6.4306e-05 - val_acc: 0.0000e+00\n",
      "Epoch 277/300\n"
     ]
    },
    {
     "name": "stdout",
     "output_type": "stream",
     "text": [
      "13801/13801 [==============================] - 19s - loss: 3.0122e-05 - acc: 0.0000e+00 - val_loss: 1.2027e-04 - val_acc: 0.0000e+00\n",
      "Epoch 278/300\n",
      "13801/13801 [==============================] - 19s - loss: 3.3844e-05 - acc: 0.0000e+00 - val_loss: 8.4834e-05 - val_acc: 0.0000e+00\n",
      "Epoch 279/300\n",
      "13801/13801 [==============================] - 18s - loss: 2.9367e-05 - acc: 0.0000e+00 - val_loss: 8.0732e-05 - val_acc: 0.0000e+00\n",
      "Epoch 280/300\n",
      "13801/13801 [==============================] - 21s - loss: 3.5422e-05 - acc: 0.0000e+00 - val_loss: 7.8360e-05 - val_acc: 0.0000e+00\n",
      "Epoch 281/300\n",
      "13801/13801 [==============================] - 19s - loss: 2.6831e-05 - acc: 0.0000e+00 - val_loss: 6.6958e-05 - val_acc: 0.0000e+00\n",
      "Epoch 282/300\n",
      "13801/13801 [==============================] - 19s - loss: 3.2445e-05 - acc: 0.0000e+00 - val_loss: 9.1909e-05 - val_acc: 0.0000e+00\n",
      "Epoch 283/300\n",
      "13801/13801 [==============================] - 18s - loss: 2.9282e-05 - acc: 0.0000e+00 - val_loss: 6.2358e-05 - val_acc: 0.0000e+00\n",
      "Epoch 284/300\n",
      "13801/13801 [==============================] - 19s - loss: 2.7561e-05 - acc: 0.0000e+00 - val_loss: 5.2943e-05 - val_acc: 0.0000e+00\n",
      "Epoch 285/300\n",
      "13801/13801 [==============================] - 18s - loss: 3.0918e-05 - acc: 0.0000e+00 - val_loss: 5.7081e-05 - val_acc: 0.0000e+00\n",
      "Epoch 286/300\n",
      "13801/13801 [==============================] - 18s - loss: 2.8984e-05 - acc: 0.0000e+00 - val_loss: 5.2033e-05 - val_acc: 0.0000e+00\n",
      "Epoch 287/300\n",
      "13801/13801 [==============================] - 18s - loss: 3.3141e-05 - acc: 0.0000e+00 - val_loss: 1.0456e-04 - val_acc: 0.0000e+00\n",
      "Epoch 288/300\n",
      "13801/13801 [==============================] - 18s - loss: 2.8906e-05 - acc: 0.0000e+00 - val_loss: 7.3712e-05 - val_acc: 0.0000e+00\n",
      "Epoch 289/300\n",
      "13801/13801 [==============================] - 18s - loss: 2.6924e-05 - acc: 0.0000e+00 - val_loss: 5.2485e-05 - val_acc: 0.0000e+00\n",
      "Epoch 290/300\n",
      "13801/13801 [==============================] - 18s - loss: 2.7581e-05 - acc: 0.0000e+00 - val_loss: 5.3466e-05 - val_acc: 0.0000e+00\n",
      "Epoch 291/300\n",
      "13801/13801 [==============================] - 19s - loss: 2.8483e-05 - acc: 0.0000e+00 - val_loss: 5.8920e-05 - val_acc: 0.0000e+00\n",
      "Epoch 292/300\n",
      "13801/13801 [==============================] - 18s - loss: 2.8479e-05 - acc: 0.0000e+00 - val_loss: 5.9745e-05 - val_acc: 0.0000e+00\n",
      "Epoch 293/300\n",
      "13801/13801 [==============================] - 18s - loss: 2.7321e-05 - acc: 0.0000e+00 - val_loss: 7.8334e-05 - val_acc: 0.0000e+00\n",
      "Epoch 294/300\n",
      "13801/13801 [==============================] - 18s - loss: 2.7237e-05 - acc: 0.0000e+00 - val_loss: 5.5821e-05 - val_acc: 0.0000e+00\n",
      "Epoch 295/300\n",
      "13801/13801 [==============================] - 19s - loss: 2.5928e-05 - acc: 0.0000e+00 - val_loss: 6.5500e-05 - val_acc: 0.0000e+00\n",
      "Epoch 296/300\n",
      "13801/13801 [==============================] - 19s - loss: 2.8410e-05 - acc: 0.0000e+00 - val_loss: 1.0531e-04 - val_acc: 0.0000e+00\n",
      "Epoch 297/300\n",
      "13801/13801 [==============================] - 19s - loss: 3.3920e-05 - acc: 0.0000e+00 - val_loss: 1.2461e-04 - val_acc: 0.0000e+00\n",
      "Epoch 298/300\n",
      "13801/13801 [==============================] - 19s - loss: 2.9636e-05 - acc: 0.0000e+00 - val_loss: 5.2315e-05 - val_acc: 0.0000e+00\n",
      "Epoch 299/300\n",
      "13801/13801 [==============================] - 18s - loss: 2.7130e-05 - acc: 0.0000e+00 - val_loss: 8.0625e-05 - val_acc: 0.0000e+00\n",
      "Epoch 300/300\n",
      "13801/13801 [==============================] - 19s - loss: 2.7955e-05 - acc: 0.0000e+00 - val_loss: 7.9064e-05 - val_acc: 0.0000e+00\n"
     ]
    },
    {
     "data": {
      "text/plain": [
       "<keras.callbacks.History at 0x12732ae80>"
      ]
     },
     "execution_count": 13,
     "metadata": {},
     "output_type": "execute_result"
    }
   ],
   "source": [
    "model.fit(\n",
    "    X_train,\n",
    "    y_train,\n",
    "    batch_size=512,\n",
    "    epochs=epochs,\n",
    "    validation_split=0.1,\n",
    "    verbose=1)"
   ]
  },
  {
   "cell_type": "markdown",
   "metadata": {},
   "source": [
    "# 7. Result on training set and testing set"
   ]
  },
  {
   "cell_type": "code",
   "execution_count": 14,
   "metadata": {
    "collapsed": true
   },
   "outputs": [],
   "source": [
    "def model_score(model, X_train, y_train, X_test, y_test):\n",
    "    trainScore = model.evaluate(X_train, y_train, verbose=0)\n",
    "    print('Train Score: %.5f MSE (%.2f RMSE)' % (trainScore[0], math.sqrt(trainScore[0])))\n",
    "\n",
    "    testScore = model.evaluate(X_test, y_test, verbose=0)\n",
    "    print('Test Score: %.5f MSE (%.2f RMSE)' % (testScore[0], math.sqrt(testScore[0])))\n",
    "    return trainScore[0], testScore[0]"
   ]
  },
  {
   "cell_type": "code",
   "execution_count": 15,
   "metadata": {},
   "outputs": [
    {
     "name": "stdout",
     "output_type": "stream",
     "text": [
      "Train Score: 0.00002 MSE (0.00 RMSE)\n",
      "Test Score: 0.00017 MSE (0.01 RMSE)\n"
     ]
    },
    {
     "data": {
      "text/plain": [
       "(1.8758331758155624e-05, 0.0001690568601012453)"
      ]
     },
     "execution_count": 15,
     "metadata": {},
     "output_type": "execute_result"
    }
   ],
   "source": [
    "model_score(model, X_train, y_train, X_test, y_test)"
   ]
  },
  {
   "cell_type": "markdown",
   "metadata": {},
   "source": [
    "# 8. Prediction vs Real results"
   ]
  },
  {
   "cell_type": "code",
   "execution_count": 16,
   "metadata": {
    "collapsed": true
   },
   "outputs": [],
   "source": [
    "def percentage_difference(model, X_test, y_test):\n",
    "    percentage_diff=[]\n",
    "\n",
    "    p = model.predict(X_test)\n",
    "    for u in range(len(y_test)): # for each data index in test data\n",
    "        pr = p[u][0] # pr = prediction on day u\n",
    "\n",
    "        percentage_diff.append((pr-y_test[u]/pr)*100)\n",
    "    return p"
   ]
  },
  {
   "cell_type": "code",
   "execution_count": 17,
   "metadata": {
    "collapsed": true
   },
   "outputs": [],
   "source": [
    "p = percentage_difference(model, X_test, y_test)"
   ]
  },
  {
   "cell_type": "markdown",
   "metadata": {},
   "source": [
    "# 9. Plot out prediction"
   ]
  },
  {
   "cell_type": "code",
   "execution_count": 18,
   "metadata": {
    "collapsed": true
   },
   "outputs": [],
   "source": [
    "def denormalize(stock_name, normalized_value):\n",
    "    start = datetime.datetime(2000, 1, 1)\n",
    "    end = datetime.date.today()\n",
    "    df = web.DataReader(stock_name, \"yahoo\", start, end)\n",
    "    \n",
    "    df = df['Adj Close'].values.reshape(-1,1)\n",
    "    normalized_value = normalized_value.reshape(-1,1)\n",
    "    \n",
    "    #return df.shape, p.shape\n",
    "    min_max_scaler = preprocessing.MinMaxScaler()\n",
    "    a = min_max_scaler.fit_transform(df)\n",
    "    new = min_max_scaler.inverse_transform(normalized_value)\n",
    "    return new"
   ]
  },
  {
   "cell_type": "code",
   "execution_count": 19,
   "metadata": {
    "collapsed": true
   },
   "outputs": [],
   "source": [
    "def plot_result(stock_name, normalized_value_p, normalized_value_y_test):\n",
    "    newp = denormalize(stock_name, normalized_value_p)\n",
    "    newy_test = denormalize(stock_name, normalized_value_y_test)\n",
    "    plt2.plot(newp, color='red', label='Prediction')\n",
    "    plt2.plot(newy_test,color='blue', label='Actual')\n",
    "    plt2.legend(loc='best')\n",
    "    plt2.title('The test result for {}'.format(stock_name))\n",
    "    plt2.xlabel('Days')\n",
    "    plt2.ylabel('Adjusted Close')\n",
    "    plt2.show()"
   ]
  },
  {
   "cell_type": "code",
   "execution_count": 20,
   "metadata": {},
   "outputs": [
    {
     "data": {
      "image/png": "[encoded data removed]",
      "text/plain": [
       "<matplotlib.figure.Figure at 0x1261b87b8>"
      ]
     },
     "metadata": {},
     "output_type": "display_data"
    }
   ],
   "source": [
    "plot_result(stock_name, p, y_test)"
   ]
  },
  {
   "cell_type": "markdown",
   "metadata": {},
   "source": [
    "# 10. Save for consistency"
   ]
  },
  {
   "cell_type": "code",
   "execution_count": null,
   "metadata": {
    "collapsed": true
   },
   "outputs": [],
   "source": [
    "# model.save('LSTM_Stock_prediction-20170429.h5')"
   ]
  },
  {
   "cell_type": "markdown",
   "metadata": {},
   "source": [
    "# Part 2. Fine tune model\n",
    "# 11. Function to load data, train model and see score"
   ]
  },
  {
   "cell_type": "code",
   "execution_count": null,
   "metadata": {
    "collapsed": true
   },
   "outputs": [],
   "source": [
    "stock_name = '^GSPC'\n",
    "seq_len = 22\n",
    "shape = [4, seq_len, 1] # feature, window, output\n",
    "neurons = [128, 128, 32, 1]\n",
    "epochs = 300"
   ]
  },
  {
   "cell_type": "code",
   "execution_count": null,
   "metadata": {
    "collapsed": true
   },
   "outputs": [],
   "source": [
    "def quick_measure(stock_name, seq_len, d, shape, neurons, epochs):\n",
    "    df = get_stock_data(stock_name)\n",
    "    X_train, y_train, X_test, y_test = load_data(df, seq_len)\n",
    "    model = build_model2(shape, neurons, d)\n",
    "    model.fit(X_train, y_train, batch_size=512, epochs=epochs, validation_split=0.1, verbose=1)\n",
    "    # model.save('LSTM_Stock_prediction-20170429.h5')\n",
    "    trainScore, testScore = model_score(model, X_train, y_train, X_test, y_test)\n",
    "    return trainScore, testScore"
   ]
  },
  {
   "cell_type": "markdown",
   "metadata": {},
   "source": [
    "# 12. Fine tune hyperparameter"
   ]
  },
  {
   "cell_type": "markdown",
   "metadata": {},
   "source": [
    "12.1 Optimial Dropout value"
   ]
  },
  {
   "cell_type": "code",
   "execution_count": null,
   "metadata": {
    "collapsed": true
   },
   "outputs": [],
   "source": [
    "dlist = [0.2, 0.3, 0.4, 0.5, 0.6, 0.7, 0.8]\n",
    "neurons_LSTM = [32, 64, 128, 256, 512, 1024, 2048]\n",
    "dropout_result = {}\n",
    "\n",
    "for d in dlist:    \n",
    "    trainScore, testScore = quick_measure(stock_name, seq_len, d, shape, neurons, epochs)\n",
    "    dropout_result[d] = testScore"
   ]
  },
  {
   "cell_type": "code",
   "execution_count": null,
   "metadata": {
    "collapsed": true
   },
   "outputs": [],
   "source": [
    "min_val = min(dropout_result.values())\n",
    "min_val_key = [k for k, v in dropout_result.items() if v == min_val]\n",
    "print (dropout_result)\n",
    "print (min_val_key)"
   ]
  },
  {
   "cell_type": "code",
   "execution_count": null,
   "metadata": {
    "collapsed": true
   },
   "outputs": [],
   "source": [
    "lists = sorted(dropout_result.items())\n",
    "x,y = zip(*lists)\n",
    "plt.plot(x,y)\n",
    "plt.title('Finding the best hyperparameter')\n",
    "plt.xlabel('Dropout')\n",
    "plt.ylabel('Mean Square Error')\n",
    "plt.show()"
   ]
  },
  {
   "cell_type": "markdown",
   "metadata": {},
   "source": [
    "12.2 Optimial epochs value"
   ]
  },
  {
   "cell_type": "code",
   "execution_count": null,
   "metadata": {
    "collapsed": true
   },
   "outputs": [],
   "source": [
    "stock_name = '^GSPC'\n",
    "seq_len = 22\n",
    "shape = [4, seq_len, 1] # feature, window, output\n",
    "neurons = [128, 128, 32, 1]\n",
    "epochslist = [10,20,30,40,50,60,70,80,90,100]"
   ]
  },
  {
   "cell_type": "code",
   "execution_count": null,
   "metadata": {
    "collapsed": true
   },
   "outputs": [],
   "source": [
    "epochs_result = {}\n",
    "\n",
    "for epochs in epochslist:    \n",
    "    trainScore, testScore = quick_measure(stock_name, seq_len, d, shape, neurons, epochs)\n",
    "    epochs_result[epochs] = testScore"
   ]
  },
  {
   "cell_type": "code",
   "execution_count": null,
   "metadata": {
    "collapsed": true
   },
   "outputs": [],
   "source": [
    "lists = sorted(epochs_result.items())\n",
    "x,y = zip(*lists)\n",
    "plt.plot(x,y)\n",
    "plt.title('Finding the best hyperparameter')\n",
    "plt.xlabel('Epochs')\n",
    "plt.ylabel('Mean Square Error')\n",
    "plt.show()"
   ]
  },
  {
   "cell_type": "markdown",
   "metadata": {},
   "source": [
    "12.3 Optimal number of neurons"
   ]
  },
  {
   "cell_type": "code",
   "execution_count": null,
   "metadata": {
    "collapsed": true
   },
   "outputs": [],
   "source": [
    "stock_name = '^GSPC'\n",
    "seq_len = 22\n",
    "shape = [4, seq_len, 1] # feature, window, output\n",
    "epochs = 90\n",
    "dropout = 0.3\n",
    "neuronlist1 = [32, 64, 128, 256, 512]\n",
    "neuronlist2 = [16, 32, 64]\n",
    "neurons_result = {}\n",
    "\n",
    "for neuron_lstm in neuronlist1:\n",
    "    neurons = [neuron_lstm, neuron_lstm]\n",
    "    for activation in neuronlist2:\n",
    "        neurons.append(activation)\n",
    "        neurons.append(1)\n",
    "        trainScore, testScore = quick_measure(stock_name, seq_len, d, shape, neurons, epochs)\n",
    "        neurons_result[str(neurons)] = testScore\n",
    "        neurons = neurons[:2]    "
   ]
  },
  {
   "cell_type": "code",
   "execution_count": null,
   "metadata": {
    "collapsed": true
   },
   "outputs": [],
   "source": [
    "lists = sorted(neurons_result.items())\n",
    "x,y = zip(*lists)\n",
    "\n",
    "plt.title('Finding the best hyperparameter')\n",
    "plt.xlabel('neurons')\n",
    "plt.ylabel('Mean Square Error')\n",
    "\n",
    "plt.bar(range(len(lists)), y, align='center')\n",
    "plt.xticks(range(len(lists)), x)\n",
    "plt.xticks(rotation=90)\n",
    "\n",
    "plt.show()"
   ]
  },
  {
   "cell_type": "markdown",
   "metadata": {
    "collapsed": true
   },
   "source": [
    "12.4 Optimial Dropout value"
   ]
  },
  {
   "cell_type": "code",
   "execution_count": null,
   "metadata": {
    "collapsed": true
   },
   "outputs": [],
   "source": [
    "stock_name = '^GSPC'\n",
    "seq_len = 22\n",
    "shape = [4, seq_len, 1] # feature, window, output\n",
    "neurons = [256, 256, 32, 1]\n",
    "epochs = 90\n",
    "decaylist = [0.1, 0.2, 0.3, 0.4, 0.5, 0.6, 0.7, 0.8, 0.9]"
   ]
  },
  {
   "cell_type": "code",
   "execution_count": null,
   "metadata": {
    "collapsed": true
   },
   "outputs": [],
   "source": [
    "def build_model3(layers, neurons, d, decay):\n",
    "    model = Sequential()\n",
    "    \n",
    "    model.add(LSTM(neurons[0], input_shape=(layers[1], layers[0]), return_sequences=True))\n",
    "    model.add(Dropout(d))\n",
    "        \n",
    "    model.add(LSTM(neurons[1], input_shape=(layers[1], layers[0]), return_sequences=False))\n",
    "    model.add(Dropout(d))\n",
    "        \n",
    "    model.add(Dense(neurons[2],kernel_initializer=\"uniform\",activation='relu'))        \n",
    "    model.add(Dense(neurons[3],kernel_initializer=\"uniform\",activation='linear'))\n",
    "    # model = load_model('my_LSTM_stock_model1000.h5')\n",
    "    adam = keras.optimizers.Adam(decay=decay)\n",
    "    model.compile(loss='mse',optimizer='adam', metrics=['accuracy'])\n",
    "    model.summary()\n",
    "    return model"
   ]
  },
  {
   "cell_type": "code",
   "execution_count": null,
   "metadata": {
    "collapsed": true
   },
   "outputs": [],
   "source": [
    "def quick_measure(stock_name, seq_len, d, shape, neurons, epochs, decay):\n",
    "    df = get_stock_data(stock_name)\n",
    "    X_train, y_train, X_test, y_test = load_data(df, seq_len)\n",
    "    model = build_model3(shape, neurons, d, decay)\n",
    "    model.fit(X_train, y_train, batch_size=512, epochs=epochs, validation_split=0.1, verbose=1)\n",
    "    # model.save('LSTM_Stock_prediction-20170429.h5')\n",
    "    trainScore, testScore = model_score(model, X_train, y_train, X_test, y_test)\n",
    "    return trainScore, testScore"
   ]
  },
  {
   "cell_type": "code",
   "execution_count": null,
   "metadata": {
    "collapsed": true
   },
   "outputs": [],
   "source": [
    "decay_result = {}\n",
    "\n",
    "for decay in decaylist:    \n",
    "    trainScore, testScore = quick_measure(stock_name, seq_len, d, shape, neurons, epochs, decay)\n",
    "    decay_result[decay] = testScore"
   ]
  },
  {
   "cell_type": "code",
   "execution_count": null,
   "metadata": {
    "collapsed": true
   },
   "outputs": [],
   "source": [
    "lists = sorted(decay_result.items())\n",
    "x,y = zip(*lists)\n",
    "plt.plot(x,y)\n",
    "plt.title('Finding the best hyperparameter')\n",
    "plt.xlabel('Decay')\n",
    "plt.ylabel('Mean Square Error')\n",
    "plt.show()"
   ]
  },
  {
   "cell_type": "code",
   "execution_count": null,
   "metadata": {
    "collapsed": true
   },
   "outputs": [],
   "source": [
    "stock_name = '^GSPC'\n",
    "neurons = [256, 256, 32, 1]\n",
    "epochs = 90\n",
    "d = 0.3 #dropout\n",
    "decay = 0.4"
   ]
  },
  {
   "cell_type": "code",
   "execution_count": null,
   "metadata": {
    "collapsed": true
   },
   "outputs": [],
   "source": [
    "seq_len_list = [5, 10, 22, 60, 120, 180]\n",
    "\n",
    "seq_len_result = {}\n",
    "\n",
    "for seq_len in seq_len_list:\n",
    "    shape = [4, seq_len, 1]\n",
    "    \n",
    "    trainScore, testScore = quick_measure(stock_name, seq_len, d, shape, neurons, epochs, decay)\n",
    "    seq_len_result[seq_len] = testScore"
   ]
  },
  {
   "cell_type": "code",
   "execution_count": null,
   "metadata": {
    "collapsed": true
   },
   "outputs": [],
   "source": [
    "lists = sorted(seq_len_result.items())\n",
    "x,y = zip(*lists)\n",
    "plt.plot(x,y)\n",
    "plt.title('Finding the best hyperparameter')\n",
    "plt.xlabel('Days')\n",
    "plt.ylabel('Mean Square Error')\n",
    "plt.show()"
   ]
  },
  {
   "cell_type": "code",
   "execution_count": null,
   "metadata": {
    "collapsed": true
   },
   "outputs": [],
   "source": []
  },
  {
   "cell_type": "code",
   "execution_count": null,
   "metadata": {
    "collapsed": true
   },
   "outputs": [],
   "source": []
  }
 ],
 "metadata": {
  "kernelspec": {
   "display_name": "Python 3",
   "language": "python",
   "name": "python3"
  },
  "language_info": {
   "codemirror_mode": {
    "name": "ipython",
    "version": 3
   },
   "file_extension": ".py",
   "mimetype": "text/x-python",
   "name": "python",
   "nbconvert_exporter": "python",
   "pygments_lexer": "ipython3",
   "version": "3.6.1"
  }
 },
 "nbformat": 4,
 "nbformat_minor": 2
}
